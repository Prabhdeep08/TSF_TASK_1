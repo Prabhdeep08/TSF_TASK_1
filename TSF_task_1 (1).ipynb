{
 "cells": [
  {
   "cell_type": "markdown",
   "id": "trained-variance",
   "metadata": {},
   "source": [
    "# BY: PRABHDEEP KAUR\n",
    "\n",
    "## THE SPARKS FOUNDATION     #GRIPFEB21\n",
    "## DATA SCIENCE & BUSINESS ANALYTICS INTERN\n",
    "## TASK 1: Prediction using supervised ML\n",
    "\n",
    "### Problem Statement: Predict the percentage of a student based on the no. of study hours. What will be predicted score if a student studies for 9.25 hrs/day.\n",
    "\n",
    "### This is a simple linear regression task as it involves just 2 variables. R language has been used to predict the scores.\n"
   ]
  },
  {
   "cell_type": "code",
   "execution_count": 1,
   "id": "significant-repeat",
   "metadata": {},
   "outputs": [
    {
     "name": "stderr",
     "output_type": "stream",
     "text": [
      "Warning message:\n",
      "\"package 'ggplot2' was built under R version 3.6.3\"Warning message:\n",
      "\"package 'readr' was built under R version 3.6.3\"Warning message:\n",
      "\"package 'caTools' was built under R version 3.6.3\""
     ]
    }
   ],
   "source": [
    "#loading of required libraries\n",
    "\n",
    "library(ggplot2)\n",
    "library(readr)\n",
    "library(caTools)"
   ]
  },
  {
   "cell_type": "code",
   "execution_count": 5,
   "id": "addressed-sterling",
   "metadata": {},
   "outputs": [
    {
     "data": {
      "text/plain": [
       "     Hours           Scores     \n",
       " Min.   :1.100   Min.   :17.00  \n",
       " 1st Qu.:2.700   1st Qu.:30.00  \n",
       " Median :4.800   Median :47.00  \n",
       " Mean   :5.012   Mean   :51.48  \n",
       " 3rd Qu.:7.400   3rd Qu.:75.00  \n",
       " Max.   :9.200   Max.   :95.00  "
      ]
     },
     "metadata": {},
     "output_type": "display_data"
    }
   ],
   "source": [
    "#importing the dataset\n",
    "\n",
    "student_data = read.csv(file.choose())\n",
    "summary(student_data)"
   ]
  },
  {
   "cell_type": "code",
   "execution_count": 6,
   "id": "alive-friend",
   "metadata": {},
   "outputs": [
    {
     "data": {
      "image/png": "[encoded data removed]",
      "text/plain": [
       "Plot with title \"Hours studied vs. percentage scored\""
      ]
     },
     "metadata": {},
     "output_type": "display_data"
    }
   ],
   "source": [
    "#plotting the graph of hours vs. scores\n",
    "\n",
    "plot(student_data$Hours,student_data$Scores,xlab = \"hours\",ylab = \"percentage scores\",main = \"Hours studied vs. percentage scored\", col = \"magenta\")"
   ]
  },
  {
   "cell_type": "code",
   "execution_count": 7,
   "id": "raising-spencer",
   "metadata": {},
   "outputs": [
    {
     "data": {
      "text/html": [
       "0.976190656022089"
      ],
      "text/latex": [
       "0.976190656022089"
      ],
      "text/markdown": [
       "0.976190656022089"
      ],
      "text/plain": [
       "[1] 0.9761907"
      ]
     },
     "metadata": {},
     "output_type": "display_data"
    }
   ],
   "source": [
    "#From the graph above, we can see that there is a linear relationship between hours studied and percentage scores. \n",
    "#now check the correlation\n",
    "\n",
    "\n",
    "cor(student_data$Hours,student_data$Scores)"
   ]
  },
  {
   "cell_type": "code",
   "execution_count": 8,
   "id": "annoying-clarity",
   "metadata": {},
   "outputs": [
    {
     "data": {
      "text/html": [
       "<ol class=list-inline>\n",
       "\t<li>FALSE</li>\n",
       "\t<li>TRUE</li>\n",
       "</ol>\n"
      ],
      "text/latex": [
       "\\begin{enumerate*}\n",
       "\\item FALSE\n",
       "\\item TRUE\n",
       "\\end{enumerate*}\n"
      ],
      "text/markdown": [
       "1. FALSE\n",
       "2. TRUE\n",
       "\n",
       "\n"
      ],
      "text/plain": [
       "[1] FALSE  TRUE"
      ]
     },
     "metadata": {},
     "output_type": "display_data"
    },
    {
     "data": {
      "text/html": [
       "<table>\n",
       "<thead><tr><th scope=col>Hours</th><th scope=col>Scores</th></tr></thead>\n",
       "<tbody>\n",
       "\t<tr><td>2.5</td><td>21 </td></tr>\n",
       "\t<tr><td>5.1</td><td>47 </td></tr>\n",
       "\t<tr><td>3.2</td><td>27 </td></tr>\n",
       "\t<tr><td>8.5</td><td>75 </td></tr>\n",
       "\t<tr><td>3.5</td><td>30 </td></tr>\n",
       "\t<tr><td>1.5</td><td>20 </td></tr>\n",
       "\t<tr><td>9.2</td><td>88 </td></tr>\n",
       "\t<tr><td>5.5</td><td>60 </td></tr>\n",
       "\t<tr><td>8.3</td><td>81 </td></tr>\n",
       "\t<tr><td>2.7</td><td>25 </td></tr>\n",
       "\t<tr><td>7.7</td><td>85 </td></tr>\n",
       "\t<tr><td>5.9</td><td>62 </td></tr>\n",
       "\t<tr><td>4.5</td><td>41 </td></tr>\n",
       "\t<tr><td>3.3</td><td>42 </td></tr>\n",
       "\t<tr><td>1.1</td><td>17 </td></tr>\n",
       "\t<tr><td>8.9</td><td>95 </td></tr>\n",
       "\t<tr><td>2.5</td><td>30 </td></tr>\n",
       "\t<tr><td>1.9</td><td>24 </td></tr>\n",
       "\t<tr><td>6.1</td><td>67 </td></tr>\n",
       "\t<tr><td>7.4</td><td>69 </td></tr>\n",
       "\t<tr><td>2.7</td><td>30 </td></tr>\n",
       "\t<tr><td>4.8</td><td>54 </td></tr>\n",
       "\t<tr><td>3.8</td><td>35 </td></tr>\n",
       "\t<tr><td>6.9</td><td>76 </td></tr>\n",
       "\t<tr><td>7.8</td><td>86 </td></tr>\n",
       "</tbody>\n",
       "</table>\n"
      ],
      "text/latex": [
       "\\begin{tabular}{r|ll}\n",
       " Hours & Scores\\\\\n",
       "\\hline\n",
       "\t 2.5 & 21 \\\\\n",
       "\t 5.1 & 47 \\\\\n",
       "\t 3.2 & 27 \\\\\n",
       "\t 8.5 & 75 \\\\\n",
       "\t 3.5 & 30 \\\\\n",
       "\t 1.5 & 20 \\\\\n",
       "\t 9.2 & 88 \\\\\n",
       "\t 5.5 & 60 \\\\\n",
       "\t 8.3 & 81 \\\\\n",
       "\t 2.7 & 25 \\\\\n",
       "\t 7.7 & 85 \\\\\n",
       "\t 5.9 & 62 \\\\\n",
       "\t 4.5 & 41 \\\\\n",
       "\t 3.3 & 42 \\\\\n",
       "\t 1.1 & 17 \\\\\n",
       "\t 8.9 & 95 \\\\\n",
       "\t 2.5 & 30 \\\\\n",
       "\t 1.9 & 24 \\\\\n",
       "\t 6.1 & 67 \\\\\n",
       "\t 7.4 & 69 \\\\\n",
       "\t 2.7 & 30 \\\\\n",
       "\t 4.8 & 54 \\\\\n",
       "\t 3.8 & 35 \\\\\n",
       "\t 6.9 & 76 \\\\\n",
       "\t 7.8 & 86 \\\\\n",
       "\\end{tabular}\n"
      ],
      "text/markdown": [
       "\n",
       "| Hours | Scores |\n",
       "|---|---|\n",
       "| 2.5 | 21  |\n",
       "| 5.1 | 47  |\n",
       "| 3.2 | 27  |\n",
       "| 8.5 | 75  |\n",
       "| 3.5 | 30  |\n",
       "| 1.5 | 20  |\n",
       "| 9.2 | 88  |\n",
       "| 5.5 | 60  |\n",
       "| 8.3 | 81  |\n",
       "| 2.7 | 25  |\n",
       "| 7.7 | 85  |\n",
       "| 5.9 | 62  |\n",
       "| 4.5 | 41  |\n",
       "| 3.3 | 42  |\n",
       "| 1.1 | 17  |\n",
       "| 8.9 | 95  |\n",
       "| 2.5 | 30  |\n",
       "| 1.9 | 24  |\n",
       "| 6.1 | 67  |\n",
       "| 7.4 | 69  |\n",
       "| 2.7 | 30  |\n",
       "| 4.8 | 54  |\n",
       "| 3.8 | 35  |\n",
       "| 6.9 | 76  |\n",
       "| 7.8 | 86  |\n",
       "\n"
      ],
      "text/plain": [
       "   Hours Scores\n",
       "1  2.5   21    \n",
       "2  5.1   47    \n",
       "3  3.2   27    \n",
       "4  8.5   75    \n",
       "5  3.5   30    \n",
       "6  1.5   20    \n",
       "7  9.2   88    \n",
       "8  5.5   60    \n",
       "9  8.3   81    \n",
       "10 2.7   25    \n",
       "11 7.7   85    \n",
       "12 5.9   62    \n",
       "13 4.5   41    \n",
       "14 3.3   42    \n",
       "15 1.1   17    \n",
       "16 8.9   95    \n",
       "17 2.5   30    \n",
       "18 1.9   24    \n",
       "19 6.1   67    \n",
       "20 7.4   69    \n",
       "21 2.7   30    \n",
       "22 4.8   54    \n",
       "23 3.8   35    \n",
       "24 6.9   76    \n",
       "25 7.8   86    "
      ]
     },
     "metadata": {},
     "output_type": "display_data"
    },
    {
     "data": {
      "text/html": [
       "<table>\n",
       "<thead><tr><th scope=col>Hours</th><th scope=col>Scores</th></tr></thead>\n",
       "<tbody>\n",
       "\t<tr><td>2.5</td><td>21 </td></tr>\n",
       "\t<tr><td>5.1</td><td>47 </td></tr>\n",
       "\t<tr><td>3.2</td><td>27 </td></tr>\n",
       "\t<tr><td>8.5</td><td>75 </td></tr>\n",
       "\t<tr><td>3.5</td><td>30 </td></tr>\n",
       "\t<tr><td>1.5</td><td>20 </td></tr>\n",
       "\t<tr><td>9.2</td><td>88 </td></tr>\n",
       "\t<tr><td>5.5</td><td>60 </td></tr>\n",
       "\t<tr><td>8.3</td><td>81 </td></tr>\n",
       "\t<tr><td>2.7</td><td>25 </td></tr>\n",
       "\t<tr><td>7.7</td><td>85 </td></tr>\n",
       "\t<tr><td>5.9</td><td>62 </td></tr>\n",
       "\t<tr><td>4.5</td><td>41 </td></tr>\n",
       "\t<tr><td>3.3</td><td>42 </td></tr>\n",
       "\t<tr><td>1.1</td><td>17 </td></tr>\n",
       "\t<tr><td>8.9</td><td>95 </td></tr>\n",
       "\t<tr><td>2.5</td><td>30 </td></tr>\n",
       "\t<tr><td>1.9</td><td>24 </td></tr>\n",
       "\t<tr><td>6.1</td><td>67 </td></tr>\n",
       "\t<tr><td>7.4</td><td>69 </td></tr>\n",
       "\t<tr><td>2.7</td><td>30 </td></tr>\n",
       "\t<tr><td>4.8</td><td>54 </td></tr>\n",
       "\t<tr><td>3.8</td><td>35 </td></tr>\n",
       "\t<tr><td>6.9</td><td>76 </td></tr>\n",
       "\t<tr><td>7.8</td><td>86 </td></tr>\n",
       "</tbody>\n",
       "</table>\n"
      ],
      "text/latex": [
       "\\begin{tabular}{r|ll}\n",
       " Hours & Scores\\\\\n",
       "\\hline\n",
       "\t 2.5 & 21 \\\\\n",
       "\t 5.1 & 47 \\\\\n",
       "\t 3.2 & 27 \\\\\n",
       "\t 8.5 & 75 \\\\\n",
       "\t 3.5 & 30 \\\\\n",
       "\t 1.5 & 20 \\\\\n",
       "\t 9.2 & 88 \\\\\n",
       "\t 5.5 & 60 \\\\\n",
       "\t 8.3 & 81 \\\\\n",
       "\t 2.7 & 25 \\\\\n",
       "\t 7.7 & 85 \\\\\n",
       "\t 5.9 & 62 \\\\\n",
       "\t 4.5 & 41 \\\\\n",
       "\t 3.3 & 42 \\\\\n",
       "\t 1.1 & 17 \\\\\n",
       "\t 8.9 & 95 \\\\\n",
       "\t 2.5 & 30 \\\\\n",
       "\t 1.9 & 24 \\\\\n",
       "\t 6.1 & 67 \\\\\n",
       "\t 7.4 & 69 \\\\\n",
       "\t 2.7 & 30 \\\\\n",
       "\t 4.8 & 54 \\\\\n",
       "\t 3.8 & 35 \\\\\n",
       "\t 6.9 & 76 \\\\\n",
       "\t 7.8 & 86 \\\\\n",
       "\\end{tabular}\n"
      ],
      "text/markdown": [
       "\n",
       "| Hours | Scores |\n",
       "|---|---|\n",
       "| 2.5 | 21  |\n",
       "| 5.1 | 47  |\n",
       "| 3.2 | 27  |\n",
       "| 8.5 | 75  |\n",
       "| 3.5 | 30  |\n",
       "| 1.5 | 20  |\n",
       "| 9.2 | 88  |\n",
       "| 5.5 | 60  |\n",
       "| 8.3 | 81  |\n",
       "| 2.7 | 25  |\n",
       "| 7.7 | 85  |\n",
       "| 5.9 | 62  |\n",
       "| 4.5 | 41  |\n",
       "| 3.3 | 42  |\n",
       "| 1.1 | 17  |\n",
       "| 8.9 | 95  |\n",
       "| 2.5 | 30  |\n",
       "| 1.9 | 24  |\n",
       "| 6.1 | 67  |\n",
       "| 7.4 | 69  |\n",
       "| 2.7 | 30  |\n",
       "| 4.8 | 54  |\n",
       "| 3.8 | 35  |\n",
       "| 6.9 | 76  |\n",
       "| 7.8 | 86  |\n",
       "\n"
      ],
      "text/plain": [
       "   Hours Scores\n",
       "1  2.5   21    \n",
       "2  5.1   47    \n",
       "3  3.2   27    \n",
       "4  8.5   75    \n",
       "5  3.5   30    \n",
       "6  1.5   20    \n",
       "7  9.2   88    \n",
       "8  5.5   60    \n",
       "9  8.3   81    \n",
       "10 2.7   25    \n",
       "11 7.7   85    \n",
       "12 5.9   62    \n",
       "13 4.5   41    \n",
       "14 3.3   42    \n",
       "15 1.1   17    \n",
       "16 8.9   95    \n",
       "17 2.5   30    \n",
       "18 1.9   24    \n",
       "19 6.1   67    \n",
       "20 7.4   69    \n",
       "21 2.7   30    \n",
       "22 4.8   54    \n",
       "23 3.8   35    \n",
       "24 6.9   76    \n",
       "25 7.8   86    "
      ]
     },
     "metadata": {},
     "output_type": "display_data"
    }
   ],
   "source": [
    "#0.97 means a strong correlation between hours studied and percentage scores. This indicates that percentage scores increases as the hours studied increases.\n",
    "\n",
    "#splitting the data into training and testing set\n",
    "\n",
    "set.seed(8)\n",
    "split = sample.split(student_data,SplitRatio = 0.8)\n",
    "split\n",
    "train = subset(student_data,split=\"FALSE\")\n",
    "test = subset(student_data,split=\"TRUE\")\n",
    "train\n",
    "test\n"
   ]
  },
  {
   "cell_type": "code",
   "execution_count": 9,
   "id": "forbidden-preserve",
   "metadata": {},
   "outputs": [
    {
     "data": {
      "text/plain": [
       "\n",
       "Call:\n",
       "lm(formula = student_data$Scores ~ ., data = train)\n",
       "\n",
       "Residuals:\n",
       "    Min      1Q  Median      3Q     Max \n",
       "-10.578  -5.340   1.839   4.593   7.265 \n",
       "\n",
       "Coefficients:\n",
       "            Estimate Std. Error t value Pr(>|t|)    \n",
       "(Intercept)   2.4837     2.5317   0.981    0.337    \n",
       "Hours         9.7758     0.4529  21.583   <2e-16 ***\n",
       "---\n",
       "Signif. codes:  0 '***' 0.001 '**' 0.01 '*' 0.05 '.' 0.1 ' ' 1\n",
       "\n",
       "Residual standard error: 5.603 on 23 degrees of freedom\n",
       "Multiple R-squared:  0.9529,\tAdjusted R-squared:  0.9509 \n",
       "F-statistic: 465.8 on 1 and 23 DF,  p-value: < 2.2e-16\n"
      ]
     },
     "metadata": {},
     "output_type": "display_data"
    }
   ],
   "source": [
    "#creating the model\n",
    "\n",
    "model = lm(student_data$Scores ~., data = train)\n",
    "summary(model)\n",
    "#training complete"
   ]
  },
  {
   "cell_type": "code",
   "execution_count": 10,
   "id": "noticed-cycling",
   "metadata": {},
   "outputs": [
    {
     "data": {
      "image/png": "[encoded data removed]",
      "text/plain": [
       "Plot with title \"Hours studied vs. percentage scored\""
      ]
     },
     "metadata": {},
     "output_type": "display_data"
    }
   ],
   "source": [
    "#plotting of regression line of hours vs. score\n",
    "\n",
    "plot(student_data$Hours,student_data$Scores,xlab = \"hours\",ylab = \"percentage scores\",main = \"Hours studied vs. percentage scored\", col = \"magenta\")\n",
    "abline(model,col=\"green\")"
   ]
  },
  {
   "cell_type": "code",
   "execution_count": 11,
   "id": "fresh-maryland",
   "metadata": {},
   "outputs": [
    {
     "data": {
      "text/html": [
       "<dl class=dl-horizontal>\n",
       "\t<dt>1</dt>\n",
       "\t\t<dd>26.9231818823419</dd>\n",
       "\t<dt>2</dt>\n",
       "\t\t<dd>52.3402706983893</dd>\n",
       "\t<dt>3</dt>\n",
       "\t\t<dd>33.7662442558931</dd>\n",
       "\t<dt>4</dt>\n",
       "\t\t<dd>85.5780022270667</dd>\n",
       "\t<dt>5</dt>\n",
       "\t\t<dd>36.6989852731293</dd>\n",
       "\t<dt>6</dt>\n",
       "\t\t<dd>17.1473784915544</dd>\n",
       "\t<dt>7</dt>\n",
       "\t\t<dd>92.4210646006179</dd>\n",
       "\t<dt>8</dt>\n",
       "\t\t<dd>56.2505920547043</dd>\n",
       "\t<dt>9</dt>\n",
       "\t\t<dd>83.6228415489092</dd>\n",
       "\t<dt>10</dt>\n",
       "\t\t<dd>28.8783425604994</dd>\n",
       "\t<dt>11</dt>\n",
       "\t\t<dd>77.7573595144367</dd>\n",
       "\t<dt>12</dt>\n",
       "\t\t<dd>60.1609134110193</dd>\n",
       "\t<dt>13</dt>\n",
       "\t\t<dd>46.4747886639168</dd>\n",
       "\t<dt>14</dt>\n",
       "\t\t<dd>34.7438245949718</dd>\n",
       "\t<dt>15</dt>\n",
       "\t\t<dd>13.2370571352394</dd>\n",
       "\t<dt>16</dt>\n",
       "\t\t<dd>89.4883235833817</dd>\n",
       "\t<dt>17</dt>\n",
       "\t\t<dd>26.9231818823419</dd>\n",
       "\t<dt>18</dt>\n",
       "\t\t<dd>21.0576998478694</dd>\n",
       "\t<dt>19</dt>\n",
       "\t\t<dd>62.1160740891767</dd>\n",
       "\t<dt>20</dt>\n",
       "\t\t<dd>74.8246184972005</dd>\n",
       "\t<dt>21</dt>\n",
       "\t\t<dd>28.8783425604994</dd>\n",
       "\t<dt>22</dt>\n",
       "\t\t<dd>49.407529681153</dd>\n",
       "\t<dt>23</dt>\n",
       "\t\t<dd>39.6317262903656</dd>\n",
       "\t<dt>24</dt>\n",
       "\t\t<dd>69.9367168018067</dd>\n",
       "\t<dt>25</dt>\n",
       "\t\t<dd>78.7349398535155</dd>\n",
       "</dl>\n"
      ],
      "text/latex": [
       "\\begin{description*}\n",
       "\\item[1] 26.9231818823419\n",
       "\\item[2] 52.3402706983893\n",
       "\\item[3] 33.7662442558931\n",
       "\\item[4] 85.5780022270667\n",
       "\\item[5] 36.6989852731293\n",
       "\\item[6] 17.1473784915544\n",
       "\\item[7] 92.4210646006179\n",
       "\\item[8] 56.2505920547043\n",
       "\\item[9] 83.6228415489092\n",
       "\\item[10] 28.8783425604994\n",
       "\\item[11] 77.7573595144367\n",
       "\\item[12] 60.1609134110193\n",
       "\\item[13] 46.4747886639168\n",
       "\\item[14] 34.7438245949718\n",
       "\\item[15] 13.2370571352394\n",
       "\\item[16] 89.4883235833817\n",
       "\\item[17] 26.9231818823419\n",
       "\\item[18] 21.0576998478694\n",
       "\\item[19] 62.1160740891767\n",
       "\\item[20] 74.8246184972005\n",
       "\\item[21] 28.8783425604994\n",
       "\\item[22] 49.407529681153\n",
       "\\item[23] 39.6317262903656\n",
       "\\item[24] 69.9367168018067\n",
       "\\item[25] 78.7349398535155\n",
       "\\end{description*}\n"
      ],
      "text/markdown": [
       "1\n",
       ":   26.92318188234192\n",
       ":   52.34027069838933\n",
       ":   33.76624425589314\n",
       ":   85.57800222706675\n",
       ":   36.69898527312936\n",
       ":   17.14737849155447\n",
       ":   92.42106460061798\n",
       ":   56.25059205470439\n",
       ":   83.622841548909210\n",
       ":   28.878342560499411\n",
       ":   77.757359514436712\n",
       ":   60.160913411019313\n",
       ":   46.474788663916814\n",
       ":   34.743824594971815\n",
       ":   13.237057135239416\n",
       ":   89.488323583381717\n",
       ":   26.923181882341918\n",
       ":   21.057699847869419\n",
       ":   62.116074089176720\n",
       ":   74.824618497200521\n",
       ":   28.878342560499422\n",
       ":   49.40752968115323\n",
       ":   39.631726290365624\n",
       ":   69.936716801806725\n",
       ":   78.7349398535155\n",
       "\n"
      ],
      "text/plain": [
       "       1        2        3        4        5        6        7        8 \n",
       "26.92318 52.34027 33.76624 85.57800 36.69899 17.14738 92.42106 56.25059 \n",
       "       9       10       11       12       13       14       15       16 \n",
       "83.62284 28.87834 77.75736 60.16091 46.47479 34.74382 13.23706 89.48832 \n",
       "      17       18       19       20       21       22       23       24 \n",
       "26.92318 21.05770 62.11607 74.82462 28.87834 49.40753 39.63173 69.93672 \n",
       "      25 \n",
       "78.73494 "
      ]
     },
     "metadata": {},
     "output_type": "display_data"
    }
   ],
   "source": [
    "#prediction of testing data\n",
    "\n",
    "predict = predict(model,test)\n",
    "predict"
   ]
  },
  {
   "cell_type": "code",
   "execution_count": 16,
   "id": "proof-skill",
   "metadata": {},
   "outputs": [
    {
     "data": {
      "text/html": [
       "<table>\n",
       "<thead><tr><th scope=col>Actual</th><th scope=col>Predicted</th></tr></thead>\n",
       "<tbody>\n",
       "\t<tr><td>21      </td><td>26.92318</td></tr>\n",
       "\t<tr><td>47      </td><td>52.34027</td></tr>\n",
       "\t<tr><td>27      </td><td>33.76624</td></tr>\n",
       "\t<tr><td>75      </td><td>85.57800</td></tr>\n",
       "\t<tr><td>30      </td><td>36.69899</td></tr>\n",
       "\t<tr><td>20      </td><td>17.14738</td></tr>\n",
       "\t<tr><td>88      </td><td>92.42106</td></tr>\n",
       "\t<tr><td>60      </td><td>56.25059</td></tr>\n",
       "\t<tr><td>81      </td><td>83.62284</td></tr>\n",
       "\t<tr><td>25      </td><td>28.87834</td></tr>\n",
       "\t<tr><td>85      </td><td>77.75736</td></tr>\n",
       "\t<tr><td>62      </td><td>60.16091</td></tr>\n",
       "\t<tr><td>41      </td><td>46.47479</td></tr>\n",
       "\t<tr><td>42      </td><td>34.74382</td></tr>\n",
       "\t<tr><td>17      </td><td>13.23706</td></tr>\n",
       "\t<tr><td>95      </td><td>89.48832</td></tr>\n",
       "\t<tr><td>30      </td><td>26.92318</td></tr>\n",
       "\t<tr><td>24      </td><td>21.05770</td></tr>\n",
       "\t<tr><td>67      </td><td>62.11607</td></tr>\n",
       "\t<tr><td>69      </td><td>74.82462</td></tr>\n",
       "\t<tr><td>30      </td><td>28.87834</td></tr>\n",
       "\t<tr><td>54      </td><td>49.40753</td></tr>\n",
       "\t<tr><td>35      </td><td>39.63173</td></tr>\n",
       "\t<tr><td>76      </td><td>69.93672</td></tr>\n",
       "\t<tr><td>86      </td><td>78.73494</td></tr>\n",
       "</tbody>\n",
       "</table>\n"
      ],
      "text/latex": [
       "\\begin{tabular}{r|ll}\n",
       " Actual & Predicted\\\\\n",
       "\\hline\n",
       "\t 21       & 26.92318\\\\\n",
       "\t 47       & 52.34027\\\\\n",
       "\t 27       & 33.76624\\\\\n",
       "\t 75       & 85.57800\\\\\n",
       "\t 30       & 36.69899\\\\\n",
       "\t 20       & 17.14738\\\\\n",
       "\t 88       & 92.42106\\\\\n",
       "\t 60       & 56.25059\\\\\n",
       "\t 81       & 83.62284\\\\\n",
       "\t 25       & 28.87834\\\\\n",
       "\t 85       & 77.75736\\\\\n",
       "\t 62       & 60.16091\\\\\n",
       "\t 41       & 46.47479\\\\\n",
       "\t 42       & 34.74382\\\\\n",
       "\t 17       & 13.23706\\\\\n",
       "\t 95       & 89.48832\\\\\n",
       "\t 30       & 26.92318\\\\\n",
       "\t 24       & 21.05770\\\\\n",
       "\t 67       & 62.11607\\\\\n",
       "\t 69       & 74.82462\\\\\n",
       "\t 30       & 28.87834\\\\\n",
       "\t 54       & 49.40753\\\\\n",
       "\t 35       & 39.63173\\\\\n",
       "\t 76       & 69.93672\\\\\n",
       "\t 86       & 78.73494\\\\\n",
       "\\end{tabular}\n"
      ],
      "text/markdown": [
       "\n",
       "| Actual | Predicted |\n",
       "|---|---|\n",
       "| 21       | 26.92318 |\n",
       "| 47       | 52.34027 |\n",
       "| 27       | 33.76624 |\n",
       "| 75       | 85.57800 |\n",
       "| 30       | 36.69899 |\n",
       "| 20       | 17.14738 |\n",
       "| 88       | 92.42106 |\n",
       "| 60       | 56.25059 |\n",
       "| 81       | 83.62284 |\n",
       "| 25       | 28.87834 |\n",
       "| 85       | 77.75736 |\n",
       "| 62       | 60.16091 |\n",
       "| 41       | 46.47479 |\n",
       "| 42       | 34.74382 |\n",
       "| 17       | 13.23706 |\n",
       "| 95       | 89.48832 |\n",
       "| 30       | 26.92318 |\n",
       "| 24       | 21.05770 |\n",
       "| 67       | 62.11607 |\n",
       "| 69       | 74.82462 |\n",
       "| 30       | 28.87834 |\n",
       "| 54       | 49.40753 |\n",
       "| 35       | 39.63173 |\n",
       "| 76       | 69.93672 |\n",
       "| 86       | 78.73494 |\n",
       "\n"
      ],
      "text/plain": [
       "   Actual Predicted\n",
       "1  21     26.92318 \n",
       "2  47     52.34027 \n",
       "3  27     33.76624 \n",
       "4  75     85.57800 \n",
       "5  30     36.69899 \n",
       "6  20     17.14738 \n",
       "7  88     92.42106 \n",
       "8  60     56.25059 \n",
       "9  81     83.62284 \n",
       "10 25     28.87834 \n",
       "11 85     77.75736 \n",
       "12 62     60.16091 \n",
       "13 41     46.47479 \n",
       "14 42     34.74382 \n",
       "15 17     13.23706 \n",
       "16 95     89.48832 \n",
       "17 30     26.92318 \n",
       "18 24     21.05770 \n",
       "19 67     62.11607 \n",
       "20 69     74.82462 \n",
       "21 30     28.87834 \n",
       "22 54     49.40753 \n",
       "23 35     39.63173 \n",
       "24 76     69.93672 \n",
       "25 86     78.73494 "
      ]
     },
     "metadata": {},
     "output_type": "display_data"
    }
   ],
   "source": [
    "#comparing actual and predicted data\n",
    "df = data.frame(Actual=test$Scores,Predicted=predict)\n",
    "df\n"
   ]
  },
  {
   "cell_type": "code",
   "execution_count": 13,
   "id": "attempted-collectible",
   "metadata": {},
   "outputs": [
    {
     "data": {
      "text/html": [
       "<strong>1:</strong> 92.9098547701573"
      ],
      "text/latex": [
       "\\textbf{1:} 92.9098547701573"
      ],
      "text/markdown": [
       "**1:** 92.9098547701573"
      ],
      "text/plain": [
       "       1 \n",
       "92.90985 "
      ]
     },
     "metadata": {},
     "output_type": "display_data"
    }
   ],
   "source": [
    "#prediction of score when hours are given as 9.25\n",
    "\n",
    "new_data = data.frame(Hours=c(9.25))\n",
    "predict(model,newdata = new_data)"
   ]
  },
  {
   "cell_type": "code",
   "execution_count": null,
   "id": "revised-burning",
   "metadata": {},
   "outputs": [],
   "source": [
    "#CONCLUSION: the predicted score if a student studies for 9.25 hours/day is 92.90985."
   ]
  }
 ],
 "metadata": {
  "kernelspec": {
   "display_name": "R",
   "language": "R",
   "name": "ir"
  },
  "language_info": {
   "codemirror_mode": "r",
   "file_extension": ".r",
   "mimetype": "text/x-r-source",
   "name": "R",
   "pygments_lexer": "r",
   "version": "3.6.1"
  }
 },
 "nbformat": 4,
 "nbformat_minor": 5
}
